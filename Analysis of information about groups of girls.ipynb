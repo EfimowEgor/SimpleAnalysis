{
 "cells": [
  {
   "cell_type": "code",
   "execution_count": 1,
   "id": "8ab833e1",
   "metadata": {},
   "outputs": [],
   "source": [
    "import pandas as pd\n",
    "import matplotlib.pyplot as plt\n",
    "import numpy as np"
   ]
  },
  {
   "cell_type": "code",
   "execution_count": 2,
   "id": "10400673",
   "metadata": {},
   "outputs": [],
   "source": [
    "df = pd.read_excel('task_1 (1).xlsx')"
   ]
  },
  {
   "cell_type": "code",
   "execution_count": 3,
   "id": "f40c71ab",
   "metadata": {},
   "outputs": [
    {
     "data": {
      "text/html": [
       "<div>\n",
       "<style scoped>\n",
       "    .dataframe tbody tr th:only-of-type {\n",
       "        vertical-align: middle;\n",
       "    }\n",
       "\n",
       "    .dataframe tbody tr th {\n",
       "        vertical-align: top;\n",
       "    }\n",
       "\n",
       "    .dataframe thead th {\n",
       "        text-align: right;\n",
       "    }\n",
       "</style>\n",
       "<table border=\"1\" class=\"dataframe\">\n",
       "  <thead>\n",
       "    <tr style=\"text-align: right;\">\n",
       "      <th></th>\n",
       "      <th>группа</th>\n",
       "      <th>число_попаданий_до_курсов</th>\n",
       "      <th>число_попаданий_после_курсов</th>\n",
       "      <th>рост_см</th>\n",
       "      <th>цвет_одежды</th>\n",
       "      <th>возраст</th>\n",
       "      <th>пол</th>\n",
       "      <th>из_Купчино</th>\n",
       "      <th>пьет_много_воды</th>\n",
       "      <th>этаж</th>\n",
       "      <th>время_работы_минут</th>\n",
       "    </tr>\n",
       "  </thead>\n",
       "  <tbody>\n",
       "    <tr>\n",
       "      <th>0</th>\n",
       "      <td>злые</td>\n",
       "      <td>14</td>\n",
       "      <td>13</td>\n",
       "      <td>163</td>\n",
       "      <td>черный</td>\n",
       "      <td>75</td>\n",
       "      <td>девочка</td>\n",
       "      <td>0.0</td>\n",
       "      <td>0.0</td>\n",
       "      <td>4</td>\n",
       "      <td>5</td>\n",
       "    </tr>\n",
       "    <tr>\n",
       "      <th>1</th>\n",
       "      <td>злые</td>\n",
       "      <td>17</td>\n",
       "      <td>27</td>\n",
       "      <td>153</td>\n",
       "      <td>черный</td>\n",
       "      <td>9</td>\n",
       "      <td>девочка</td>\n",
       "      <td>0.0</td>\n",
       "      <td>0.0</td>\n",
       "      <td>1</td>\n",
       "      <td>9</td>\n",
       "    </tr>\n",
       "    <tr>\n",
       "      <th>2</th>\n",
       "      <td>добрые</td>\n",
       "      <td>14</td>\n",
       "      <td>36</td>\n",
       "      <td>159</td>\n",
       "      <td>розовый</td>\n",
       "      <td>8</td>\n",
       "      <td>девочка</td>\n",
       "      <td>0.0</td>\n",
       "      <td>1.0</td>\n",
       "      <td>4</td>\n",
       "      <td>15</td>\n",
       "    </tr>\n",
       "    <tr>\n",
       "      <th>3</th>\n",
       "      <td>добрые</td>\n",
       "      <td>6</td>\n",
       "      <td>38</td>\n",
       "      <td>154</td>\n",
       "      <td>розовый</td>\n",
       "      <td>14</td>\n",
       "      <td>девочка</td>\n",
       "      <td>0.0</td>\n",
       "      <td>0.0</td>\n",
       "      <td>5</td>\n",
       "      <td>7</td>\n",
       "    </tr>\n",
       "    <tr>\n",
       "      <th>4</th>\n",
       "      <td>злые</td>\n",
       "      <td>10</td>\n",
       "      <td>25</td>\n",
       "      <td>158</td>\n",
       "      <td>черный</td>\n",
       "      <td>11</td>\n",
       "      <td>девочка</td>\n",
       "      <td>NaN</td>\n",
       "      <td>0.0</td>\n",
       "      <td>3</td>\n",
       "      <td>6</td>\n",
       "    </tr>\n",
       "  </tbody>\n",
       "</table>\n",
       "</div>"
      ],
      "text/plain": [
       "   группа  число_попаданий_до_курсов  число_попаданий_после_курсов  рост_см  \\\n",
       "0    злые                         14                            13      163   \n",
       "1    злые                         17                            27      153   \n",
       "2  добрые                         14                            36      159   \n",
       "3  добрые                          6                            38      154   \n",
       "4    злые                         10                            25      158   \n",
       "\n",
       "  цвет_одежды  возраст      пол  из_Купчино  пьет_много_воды  этаж  \\\n",
       "0      черный       75  девочка         0.0              0.0     4   \n",
       "1      черный        9  девочка         0.0              0.0     1   \n",
       "2     розовый        8  девочка         0.0              1.0     4   \n",
       "3     розовый       14  девочка         0.0              0.0     5   \n",
       "4      черный       11  девочка         NaN              0.0     3   \n",
       "\n",
       "   время_работы_минут  \n",
       "0                   5  \n",
       "1                   9  \n",
       "2                  15  \n",
       "3                   7  \n",
       "4                   6  "
      ]
     },
     "execution_count": 3,
     "metadata": {},
     "output_type": "execute_result"
    }
   ],
   "source": [
    "df.head()"
   ]
  },
  {
   "cell_type": "code",
   "execution_count": 5,
   "id": "685d7a1e",
   "metadata": {},
   "outputs": [
    {
     "data": {
      "text/html": [
       "<div>\n",
       "<style scoped>\n",
       "    .dataframe tbody tr th:only-of-type {\n",
       "        vertical-align: middle;\n",
       "    }\n",
       "\n",
       "    .dataframe tbody tr th {\n",
       "        vertical-align: top;\n",
       "    }\n",
       "\n",
       "    .dataframe thead th {\n",
       "        text-align: right;\n",
       "    }\n",
       "</style>\n",
       "<table border=\"1\" class=\"dataframe\">\n",
       "  <thead>\n",
       "    <tr style=\"text-align: right;\">\n",
       "      <th></th>\n",
       "      <th>число_попаданий_до_курсов</th>\n",
       "      <th>число_попаданий_после_курсов</th>\n",
       "      <th>рост_см</th>\n",
       "      <th>возраст</th>\n",
       "      <th>из_Купчино</th>\n",
       "      <th>пьет_много_воды</th>\n",
       "      <th>этаж</th>\n",
       "      <th>время_работы_минут</th>\n",
       "    </tr>\n",
       "  </thead>\n",
       "  <tbody>\n",
       "    <tr>\n",
       "      <th>count</th>\n",
       "      <td>1000.000000</td>\n",
       "      <td>1000.000000</td>\n",
       "      <td>1000.000000</td>\n",
       "      <td>1000.000000</td>\n",
       "      <td>942.000000</td>\n",
       "      <td>949.000000</td>\n",
       "      <td>1000.000000</td>\n",
       "      <td>1000.000000</td>\n",
       "    </tr>\n",
       "    <tr>\n",
       "      <th>mean</th>\n",
       "      <td>13.197000</td>\n",
       "      <td>21.579000</td>\n",
       "      <td>158.094000</td>\n",
       "      <td>10.859000</td>\n",
       "      <td>0.160297</td>\n",
       "      <td>0.535300</td>\n",
       "      <td>3.946000</td>\n",
       "      <td>16.233000</td>\n",
       "    </tr>\n",
       "    <tr>\n",
       "      <th>std</th>\n",
       "      <td>5.411051</td>\n",
       "      <td>8.541236</td>\n",
       "      <td>10.100554</td>\n",
       "      <td>5.975519</td>\n",
       "      <td>0.367076</td>\n",
       "      <td>0.499015</td>\n",
       "      <td>2.109392</td>\n",
       "      <td>9.680621</td>\n",
       "    </tr>\n",
       "    <tr>\n",
       "      <th>min</th>\n",
       "      <td>4.000000</td>\n",
       "      <td>6.000000</td>\n",
       "      <td>149.000000</td>\n",
       "      <td>7.000000</td>\n",
       "      <td>0.000000</td>\n",
       "      <td>0.000000</td>\n",
       "      <td>1.000000</td>\n",
       "      <td>5.000000</td>\n",
       "    </tr>\n",
       "    <tr>\n",
       "      <th>25%</th>\n",
       "      <td>8.000000</td>\n",
       "      <td>15.000000</td>\n",
       "      <td>153.000000</td>\n",
       "      <td>8.000000</td>\n",
       "      <td>0.000000</td>\n",
       "      <td>0.000000</td>\n",
       "      <td>2.000000</td>\n",
       "      <td>7.000000</td>\n",
       "    </tr>\n",
       "    <tr>\n",
       "      <th>50%</th>\n",
       "      <td>13.000000</td>\n",
       "      <td>21.000000</td>\n",
       "      <td>158.000000</td>\n",
       "      <td>10.000000</td>\n",
       "      <td>0.000000</td>\n",
       "      <td>1.000000</td>\n",
       "      <td>3.000000</td>\n",
       "      <td>16.000000</td>\n",
       "    </tr>\n",
       "    <tr>\n",
       "      <th>75%</th>\n",
       "      <td>18.000000</td>\n",
       "      <td>27.000000</td>\n",
       "      <td>162.000000</td>\n",
       "      <td>13.000000</td>\n",
       "      <td>0.000000</td>\n",
       "      <td>1.000000</td>\n",
       "      <td>5.000000</td>\n",
       "      <td>25.000000</td>\n",
       "    </tr>\n",
       "    <tr>\n",
       "      <th>max</th>\n",
       "      <td>22.000000</td>\n",
       "      <td>40.000000</td>\n",
       "      <td>293.000000</td>\n",
       "      <td>98.000000</td>\n",
       "      <td>1.000000</td>\n",
       "      <td>1.000000</td>\n",
       "      <td>8.000000</td>\n",
       "      <td>34.000000</td>\n",
       "    </tr>\n",
       "  </tbody>\n",
       "</table>\n",
       "</div>"
      ],
      "text/plain": [
       "       число_попаданий_до_курсов  число_попаданий_после_курсов      рост_см  \\\n",
       "count                1000.000000                   1000.000000  1000.000000   \n",
       "mean                   13.197000                     21.579000   158.094000   \n",
       "std                     5.411051                      8.541236    10.100554   \n",
       "min                     4.000000                      6.000000   149.000000   \n",
       "25%                     8.000000                     15.000000   153.000000   \n",
       "50%                    13.000000                     21.000000   158.000000   \n",
       "75%                    18.000000                     27.000000   162.000000   \n",
       "max                    22.000000                     40.000000   293.000000   \n",
       "\n",
       "           возраст  из_Купчино  пьет_много_воды         этаж  \\\n",
       "count  1000.000000  942.000000       949.000000  1000.000000   \n",
       "mean     10.859000    0.160297         0.535300     3.946000   \n",
       "std       5.975519    0.367076         0.499015     2.109392   \n",
       "min       7.000000    0.000000         0.000000     1.000000   \n",
       "25%       8.000000    0.000000         0.000000     2.000000   \n",
       "50%      10.000000    0.000000         1.000000     3.000000   \n",
       "75%      13.000000    0.000000         1.000000     5.000000   \n",
       "max      98.000000    1.000000         1.000000     8.000000   \n",
       "\n",
       "       время_работы_минут  \n",
       "count         1000.000000  \n",
       "mean            16.233000  \n",
       "std              9.680621  \n",
       "min              5.000000  \n",
       "25%              7.000000  \n",
       "50%             16.000000  \n",
       "75%             25.000000  \n",
       "max             34.000000  "
      ]
     },
     "execution_count": 5,
     "metadata": {},
     "output_type": "execute_result"
    }
   ],
   "source": [
    "df.describe()"
   ]
  },
  {
   "cell_type": "markdown",
   "id": "5096b4cd",
   "metadata": {},
   "source": [
    "Сразу заметны аномалии в столбцах \"рост_см\" и \"возраст\". Помимо этого не хватает данных в столбцах \"из_Купчино\" и \"пьет_много_воды\".\n",
    "Проверка столбца \"рост_см\"."
   ]
  },
  {
   "cell_type": "code",
   "execution_count": 42,
   "id": "1f6e75ed",
   "metadata": {},
   "outputs": [
    {
     "data": {
      "image/png": "[encoded data removed]",
      "text/plain": [
       "<Figure size 432x288 with 1 Axes>"
      ]
     },
     "metadata": {
      "needs_background": "light"
     },
     "output_type": "display_data"
    }
   ],
   "source": [
    "df['рост_см'].plot(kind='line');"
   ]
  },
  {
   "cell_type": "code",
   "execution_count": 41,
   "id": "6aeb0ede",
   "metadata": {},
   "outputs": [
    {
     "data": {
      "text/plain": [
       "164    77\n",
       "165    69\n",
       "162    68\n",
       "154    64\n",
       "156    63\n",
       "163    62\n",
       "158    60\n",
       "150    58\n",
       "161    56\n",
       "157    56\n",
       "160    56\n",
       "155    55\n",
       "159    54\n",
       "151    53\n",
       "152    51\n",
       "153    48\n",
       "149    45\n",
       "282     1\n",
       "281     1\n",
       "276     1\n",
       "293     1\n",
       "280     1\n",
       "Name: рост_см, dtype: int64"
      ]
     },
     "execution_count": 41,
     "metadata": {},
     "output_type": "execute_result"
    }
   ],
   "source": [
    "df['рост_см'].value_counts()"
   ]
  },
  {
   "cell_type": "markdown",
   "id": "539ad30a",
   "metadata": {},
   "source": [
    "Ненормальные значения, выходящие за рамки нормального человеческого роста, теперь в этом можно убедиться."
   ]
  },
  {
   "cell_type": "markdown",
   "id": "2e5d6ecc",
   "metadata": {},
   "source": [
    "Проверка столбца возраст"
   ]
  },
  {
   "cell_type": "code",
   "execution_count": 47,
   "id": "07de88f9",
   "metadata": {},
   "outputs": [
    {
     "data": {
      "image/png": "[encoded data removed]",
      "text/plain": [
       "<Figure size 432x288 with 1 Axes>"
      ]
     },
     "metadata": {
      "needs_background": "light"
     },
     "output_type": "display_data"
    }
   ],
   "source": [
    "df['возраст'].plot(kind='line');"
   ]
  },
  {
   "cell_type": "code",
   "execution_count": 45,
   "id": "3bd7b9de",
   "metadata": {},
   "outputs": [
    {
     "data": {
      "text/plain": [
       "8     141\n",
       "13    132\n",
       "10    126\n",
       "11    124\n",
       "9     123\n",
       "14    117\n",
       "7     116\n",
       "12    116\n",
       "75      1\n",
       "92      1\n",
       "98      1\n",
       "86      1\n",
       "91      1\n",
       "Name: возраст, dtype: int64"
      ]
     },
     "execution_count": 45,
     "metadata": {},
     "output_type": "execute_result"
    }
   ],
   "source": [
    "df['возраст'].value_counts()"
   ]
  },
  {
   "cell_type": "markdown",
   "id": "9586d92e",
   "metadata": {},
   "source": [
    "На мой взгляд, под понятие девочки, не могут попадать люди высокого возраста. На графике выше видно, насколько сильно некоторые\n",
    "данные отличаются от нормальных. Таким образом здесь тоже зафиксированы аномалии."
   ]
  },
  {
   "cell_type": "code",
   "execution_count": 81,
   "id": "872a26b8",
   "metadata": {},
   "outputs": [
    {
     "data": {
      "image/png": "[encoded data removed]",
      "text/plain": [
       "<Figure size 432x288 with 1 Axes>"
      ]
     },
     "metadata": {
      "needs_background": "light"
     },
     "output_type": "display_data"
    }
   ],
   "source": [
    "df['этаж'].plot(kind='hist');"
   ]
  },
  {
   "cell_type": "markdown",
   "id": "2d02ea37",
   "metadata": {},
   "source": [
    "В колонке \"этаж\" не наблюдается никаких аномалий."
   ]
  },
  {
   "cell_type": "code",
   "execution_count": 80,
   "id": "92331b3b",
   "metadata": {},
   "outputs": [
    {
     "data": {
      "image/png": "[encoded data removed]",
      "text/plain": [
       "<Figure size 432x288 with 1 Axes>"
      ]
     },
     "metadata": {
      "needs_background": "light"
     },
     "output_type": "display_data"
    }
   ],
   "source": [
    "df['число_попаданий_до_курсов'].plot(kind='hist', bins=list(range(4, 23)));"
   ]
  },
  {
   "cell_type": "code",
   "execution_count": 70,
   "id": "0e0326a9",
   "metadata": {},
   "outputs": [
    {
     "data": {
      "text/plain": [
       "14    67\n",
       "8     65\n",
       "19    63\n",
       "5     63\n",
       "21    59\n",
       "18    58\n",
       "13    55\n",
       "11    55\n",
       "9     54\n",
       "22    54\n",
       "7     53\n",
       "12    51\n",
       "6     50\n",
       "16    49\n",
       "17    48\n",
       "20    45\n",
       "15    45\n",
       "10    38\n",
       "4     28\n",
       "Name: число_попаданий_до_курсов, dtype: int64"
      ]
     },
     "execution_count": 70,
     "metadata": {},
     "output_type": "execute_result"
    }
   ],
   "source": [
    "df['число_попаданий_до_курсов'].value_counts()"
   ]
  },
  {
   "cell_type": "code",
   "execution_count": 68,
   "id": "837cedeb",
   "metadata": {},
   "outputs": [
    {
     "data": {
      "image/png": "[encoded data removed]",
      "text/plain": [
       "<Figure size 432x288 with 1 Axes>"
      ]
     },
     "metadata": {
      "needs_background": "light"
     },
     "output_type": "display_data"
    }
   ],
   "source": [
    "df['число_попаданий_после_курсов'].plot(kind='hist', bins=list(range(6, 41)));"
   ]
  },
  {
   "cell_type": "markdown",
   "id": "b82d7cda",
   "metadata": {},
   "source": [
    "Колонки, связанные с числом попаданий не содержат аномальных значений."
   ]
  },
  {
   "cell_type": "code",
   "execution_count": 90,
   "id": "86aabbf1",
   "metadata": {},
   "outputs": [
    {
     "data": {
      "image/png": "[encoded data removed]",
      "text/plain": [
       "<Figure size 432x288 with 1 Axes>"
      ]
     },
     "metadata": {
      "needs_background": "light"
     },
     "output_type": "display_data"
    }
   ],
   "source": [
    "df['время_работы_минут'].plot(kind='hist', bins=list(range(5, 35)));"
   ]
  },
  {
   "cell_type": "code",
   "execution_count": 88,
   "id": "b6b311db",
   "metadata": {},
   "outputs": [
    {
     "data": {
      "text/plain": [
       "5     103\n",
       "6      86\n",
       "7      92\n",
       "8      85\n",
       "9      95\n",
       "15     33\n",
       "16     31\n",
       "17     37\n",
       "18     32\n",
       "19     23\n",
       "20     29\n",
       "21     22\n",
       "22     18\n",
       "23     23\n",
       "24     32\n",
       "25     31\n",
       "26     22\n",
       "27     26\n",
       "28     21\n",
       "29     22\n",
       "30     26\n",
       "31     34\n",
       "32     25\n",
       "33     22\n",
       "34     30\n",
       "Name: время_работы_минут, dtype: int64"
      ]
     },
     "execution_count": 88,
     "metadata": {},
     "output_type": "execute_result"
    }
   ],
   "source": [
    "df['время_работы_минут'].value_counts().sort_index()"
   ]
  },
  {
   "cell_type": "code",
   "execution_count": 91,
   "id": "c6016b22",
   "metadata": {},
   "outputs": [
    {
     "data": {
      "text/html": [
       "<div>\n",
       "<style scoped>\n",
       "    .dataframe tbody tr th:only-of-type {\n",
       "        vertical-align: middle;\n",
       "    }\n",
       "\n",
       "    .dataframe tbody tr th {\n",
       "        vertical-align: top;\n",
       "    }\n",
       "\n",
       "    .dataframe thead th {\n",
       "        text-align: right;\n",
       "    }\n",
       "</style>\n",
       "<table border=\"1\" class=\"dataframe\">\n",
       "  <thead>\n",
       "    <tr style=\"text-align: right;\">\n",
       "      <th></th>\n",
       "      <th>группа</th>\n",
       "      <th>число_попаданий_до_курсов</th>\n",
       "      <th>число_попаданий_после_курсов</th>\n",
       "      <th>рост_см</th>\n",
       "      <th>цвет_одежды</th>\n",
       "      <th>возраст</th>\n",
       "      <th>пол</th>\n",
       "      <th>из_Купчино</th>\n",
       "      <th>пьет_много_воды</th>\n",
       "      <th>этаж</th>\n",
       "      <th>время_работы_минут</th>\n",
       "    </tr>\n",
       "  </thead>\n",
       "  <tbody>\n",
       "    <tr>\n",
       "      <th>0</th>\n",
       "      <td>злые</td>\n",
       "      <td>14</td>\n",
       "      <td>13</td>\n",
       "      <td>163</td>\n",
       "      <td>черный</td>\n",
       "      <td>75</td>\n",
       "      <td>девочка</td>\n",
       "      <td>0.0</td>\n",
       "      <td>0.0</td>\n",
       "      <td>4</td>\n",
       "      <td>5</td>\n",
       "    </tr>\n",
       "    <tr>\n",
       "      <th>1</th>\n",
       "      <td>злые</td>\n",
       "      <td>17</td>\n",
       "      <td>27</td>\n",
       "      <td>153</td>\n",
       "      <td>черный</td>\n",
       "      <td>9</td>\n",
       "      <td>девочка</td>\n",
       "      <td>0.0</td>\n",
       "      <td>0.0</td>\n",
       "      <td>1</td>\n",
       "      <td>9</td>\n",
       "    </tr>\n",
       "    <tr>\n",
       "      <th>2</th>\n",
       "      <td>добрые</td>\n",
       "      <td>14</td>\n",
       "      <td>36</td>\n",
       "      <td>159</td>\n",
       "      <td>розовый</td>\n",
       "      <td>8</td>\n",
       "      <td>девочка</td>\n",
       "      <td>0.0</td>\n",
       "      <td>1.0</td>\n",
       "      <td>4</td>\n",
       "      <td>15</td>\n",
       "    </tr>\n",
       "    <tr>\n",
       "      <th>3</th>\n",
       "      <td>добрые</td>\n",
       "      <td>6</td>\n",
       "      <td>38</td>\n",
       "      <td>154</td>\n",
       "      <td>розовый</td>\n",
       "      <td>14</td>\n",
       "      <td>девочка</td>\n",
       "      <td>0.0</td>\n",
       "      <td>0.0</td>\n",
       "      <td>5</td>\n",
       "      <td>7</td>\n",
       "    </tr>\n",
       "    <tr>\n",
       "      <th>4</th>\n",
       "      <td>злые</td>\n",
       "      <td>10</td>\n",
       "      <td>25</td>\n",
       "      <td>158</td>\n",
       "      <td>черный</td>\n",
       "      <td>11</td>\n",
       "      <td>девочка</td>\n",
       "      <td>NaN</td>\n",
       "      <td>0.0</td>\n",
       "      <td>3</td>\n",
       "      <td>6</td>\n",
       "    </tr>\n",
       "  </tbody>\n",
       "</table>\n",
       "</div>"
      ],
      "text/plain": [
       "   группа  число_попаданий_до_курсов  число_попаданий_после_курсов  рост_см  \\\n",
       "0    злые                         14                            13      163   \n",
       "1    злые                         17                            27      153   \n",
       "2  добрые                         14                            36      159   \n",
       "3  добрые                          6                            38      154   \n",
       "4    злые                         10                            25      158   \n",
       "\n",
       "  цвет_одежды  возраст      пол  из_Купчино  пьет_много_воды  этаж  \\\n",
       "0      черный       75  девочка         0.0              0.0     4   \n",
       "1      черный        9  девочка         0.0              0.0     1   \n",
       "2     розовый        8  девочка         0.0              1.0     4   \n",
       "3     розовый       14  девочка         0.0              0.0     5   \n",
       "4      черный       11  девочка         NaN              0.0     3   \n",
       "\n",
       "   время_работы_минут  \n",
       "0                   5  \n",
       "1                   9  \n",
       "2                  15  \n",
       "3                   7  \n",
       "4                   6  "
      ]
     },
     "execution_count": 91,
     "metadata": {},
     "output_type": "execute_result"
    }
   ],
   "source": [
    "df.head()"
   ]
  },
  {
   "cell_type": "code",
   "execution_count": 102,
   "id": "589c3353",
   "metadata": {},
   "outputs": [
    {
     "data": {
      "image/png": "[encoded data removed]",
      "text/plain": [
       "<Figure size 432x288 with 1 Axes>"
      ]
     },
     "metadata": {
      "needs_background": "light"
     },
     "output_type": "display_data"
    }
   ],
   "source": [
    "df.plot(kind='scatter', x='цвет_одежды', y='группа');"
   ]
  },
  {
   "cell_type": "markdown",
   "id": "287915a9",
   "metadata": {},
   "source": [
    "Можно заметить зависимость цвета одежды от принадлежности девочки к одной из групп. Так, предпочитаемый цвет одежды злых - чёрный, добрых - розовый."
   ]
  },
  {
   "cell_type": "code",
   "execution_count": 109,
   "id": "60843263",
   "metadata": {},
   "outputs": [
    {
     "data": {
      "text/plain": [
       "<AxesSubplot:xlabel='время_работы_минут', ylabel='пьет_много_воды'>"
      ]
     },
     "execution_count": 109,
     "metadata": {},
     "output_type": "execute_result"
    },
    {
     "data": {
      "image/png": "[encoded data removed]",
      "text/plain": [
       "<Figure size 432x288 with 1 Axes>"
      ]
     },
     "metadata": {
      "needs_background": "light"
     },
     "output_type": "display_data"
    }
   ],
   "source": [
    "df.plot(kind='scatter', x='время_работы_минут', y='пьет_много_воды')"
   ]
  },
  {
   "cell_type": "markdown",
   "id": "46b348d0",
   "metadata": {},
   "source": [
    "Можно увидеть, что есть связь между длительностью работы и тем, много ли пьет девочка. По графику видно, что девочки, которые много пьют, имеют более высокое время работы, которое по имеющимся данным, начинается от 15 минут. Таким образом, помимо того, что была обнаружена зависимость, можно сделать вывод о том, как заполнить недостающие значения в колонке \"пьет_много_воды\": если значение превышает 15 минут, то пропуск можно заполнить 1, иначе 0."
   ]
  },
  {
   "cell_type": "code",
   "execution_count": 160,
   "id": "c0b9cfd8",
   "metadata": {},
   "outputs": [],
   "source": [
    "df['newALotWater'] = np.where(df['время_работы_минут'] >= 15, 1.0, 0.0)"
   ]
  },
  {
   "cell_type": "code",
   "execution_count": 171,
   "id": "0d4351dd",
   "metadata": {},
   "outputs": [],
   "source": [
    "df['пьет_много_воды'] = df['newALotWater']\n",
    "df = df.drop('newALotWater', axis=1)"
   ]
  },
  {
   "cell_type": "code",
   "execution_count": 173,
   "id": "7e37ccd0",
   "metadata": {},
   "outputs": [
    {
     "data": {
      "text/html": [
       "<div>\n",
       "<style scoped>\n",
       "    .dataframe tbody tr th:only-of-type {\n",
       "        vertical-align: middle;\n",
       "    }\n",
       "\n",
       "    .dataframe tbody tr th {\n",
       "        vertical-align: top;\n",
       "    }\n",
       "\n",
       "    .dataframe thead th {\n",
       "        text-align: right;\n",
       "    }\n",
       "</style>\n",
       "<table border=\"1\" class=\"dataframe\">\n",
       "  <thead>\n",
       "    <tr style=\"text-align: right;\">\n",
       "      <th></th>\n",
       "      <th>число_попаданий_до_курсов</th>\n",
       "      <th>число_попаданий_после_курсов</th>\n",
       "      <th>рост_см</th>\n",
       "      <th>возраст</th>\n",
       "      <th>из_Купчино</th>\n",
       "      <th>пьет_много_воды</th>\n",
       "      <th>этаж</th>\n",
       "      <th>время_работы_минут</th>\n",
       "    </tr>\n",
       "  </thead>\n",
       "  <tbody>\n",
       "    <tr>\n",
       "      <th>count</th>\n",
       "      <td>1000.000000</td>\n",
       "      <td>1000.000000</td>\n",
       "      <td>1000.000000</td>\n",
       "      <td>1000.000000</td>\n",
       "      <td>942.000000</td>\n",
       "      <td>1000.000000</td>\n",
       "      <td>1000.000000</td>\n",
       "      <td>1000.000000</td>\n",
       "    </tr>\n",
       "    <tr>\n",
       "      <th>mean</th>\n",
       "      <td>13.197000</td>\n",
       "      <td>21.579000</td>\n",
       "      <td>158.094000</td>\n",
       "      <td>10.859000</td>\n",
       "      <td>0.160297</td>\n",
       "      <td>0.539000</td>\n",
       "      <td>3.946000</td>\n",
       "      <td>16.233000</td>\n",
       "    </tr>\n",
       "    <tr>\n",
       "      <th>std</th>\n",
       "      <td>5.411051</td>\n",
       "      <td>8.541236</td>\n",
       "      <td>10.100554</td>\n",
       "      <td>5.975519</td>\n",
       "      <td>0.367076</td>\n",
       "      <td>0.498726</td>\n",
       "      <td>2.109392</td>\n",
       "      <td>9.680621</td>\n",
       "    </tr>\n",
       "    <tr>\n",
       "      <th>min</th>\n",
       "      <td>4.000000</td>\n",
       "      <td>6.000000</td>\n",
       "      <td>149.000000</td>\n",
       "      <td>7.000000</td>\n",
       "      <td>0.000000</td>\n",
       "      <td>0.000000</td>\n",
       "      <td>1.000000</td>\n",
       "      <td>5.000000</td>\n",
       "    </tr>\n",
       "    <tr>\n",
       "      <th>25%</th>\n",
       "      <td>8.000000</td>\n",
       "      <td>15.000000</td>\n",
       "      <td>153.000000</td>\n",
       "      <td>8.000000</td>\n",
       "      <td>0.000000</td>\n",
       "      <td>0.000000</td>\n",
       "      <td>2.000000</td>\n",
       "      <td>7.000000</td>\n",
       "    </tr>\n",
       "    <tr>\n",
       "      <th>50%</th>\n",
       "      <td>13.000000</td>\n",
       "      <td>21.000000</td>\n",
       "      <td>158.000000</td>\n",
       "      <td>10.000000</td>\n",
       "      <td>0.000000</td>\n",
       "      <td>1.000000</td>\n",
       "      <td>3.000000</td>\n",
       "      <td>16.000000</td>\n",
       "    </tr>\n",
       "    <tr>\n",
       "      <th>75%</th>\n",
       "      <td>18.000000</td>\n",
       "      <td>27.000000</td>\n",
       "      <td>162.000000</td>\n",
       "      <td>13.000000</td>\n",
       "      <td>0.000000</td>\n",
       "      <td>1.000000</td>\n",
       "      <td>5.000000</td>\n",
       "      <td>25.000000</td>\n",
       "    </tr>\n",
       "    <tr>\n",
       "      <th>max</th>\n",
       "      <td>22.000000</td>\n",
       "      <td>40.000000</td>\n",
       "      <td>293.000000</td>\n",
       "      <td>98.000000</td>\n",
       "      <td>1.000000</td>\n",
       "      <td>1.000000</td>\n",
       "      <td>8.000000</td>\n",
       "      <td>34.000000</td>\n",
       "    </tr>\n",
       "  </tbody>\n",
       "</table>\n",
       "</div>"
      ],
      "text/plain": [
       "       число_попаданий_до_курсов  число_попаданий_после_курсов      рост_см  \\\n",
       "count                1000.000000                   1000.000000  1000.000000   \n",
       "mean                   13.197000                     21.579000   158.094000   \n",
       "std                     5.411051                      8.541236    10.100554   \n",
       "min                     4.000000                      6.000000   149.000000   \n",
       "25%                     8.000000                     15.000000   153.000000   \n",
       "50%                    13.000000                     21.000000   158.000000   \n",
       "75%                    18.000000                     27.000000   162.000000   \n",
       "max                    22.000000                     40.000000   293.000000   \n",
       "\n",
       "           возраст  из_Купчино  пьет_много_воды         этаж  \\\n",
       "count  1000.000000  942.000000      1000.000000  1000.000000   \n",
       "mean     10.859000    0.160297         0.539000     3.946000   \n",
       "std       5.975519    0.367076         0.498726     2.109392   \n",
       "min       7.000000    0.000000         0.000000     1.000000   \n",
       "25%       8.000000    0.000000         0.000000     2.000000   \n",
       "50%      10.000000    0.000000         1.000000     3.000000   \n",
       "75%      13.000000    0.000000         1.000000     5.000000   \n",
       "max      98.000000    1.000000         1.000000     8.000000   \n",
       "\n",
       "       время_работы_минут  \n",
       "count         1000.000000  \n",
       "mean            16.233000  \n",
       "std              9.680621  \n",
       "min              5.000000  \n",
       "25%              7.000000  \n",
       "50%             16.000000  \n",
       "75%             25.000000  \n",
       "max             34.000000  "
      ]
     },
     "execution_count": 173,
     "metadata": {},
     "output_type": "execute_result"
    }
   ],
   "source": [
    "df.describe()"
   ]
  },
  {
   "cell_type": "code",
   "execution_count": 155,
   "id": "17da0991",
   "metadata": {},
   "outputs": [
    {
     "data": {
      "image/png": "[encoded data removed]",
      "text/plain": [
       "<Figure size 432x288 with 1 Axes>"
      ]
     },
     "metadata": {
      "needs_background": "light"
     },
     "output_type": "display_data"
    }
   ],
   "source": [
    "ax = df.plot(kind='scatter', x='этаж', y='число_попаданий_до_курсов');\n",
    "df.plot(ax=ax, kind='scatter', x='этаж', y='число_попаданий_после_курсов', color='orange', alpha=0.1, ylabel='');"
   ]
  },
  {
   "cell_type": "code",
   "execution_count": 151,
   "id": "43674d5c",
   "metadata": {},
   "outputs": [
    {
     "data": {
      "image/png": "[encoded data removed]",
      "text/plain": [
       "<Figure size 432x288 with 1 Axes>"
      ]
     },
     "metadata": {
      "needs_background": "light"
     },
     "output_type": "display_data"
    }
   ],
   "source": [
    "df.plot(kind='scatter', x='этаж', y='число_попаданий_до_курсов');"
   ]
  },
  {
   "cell_type": "code",
   "execution_count": 152,
   "id": "55bcae45",
   "metadata": {},
   "outputs": [
    {
     "data": {
      "image/png": "[encoded data removed]",
      "text/plain": [
       "<Figure size 432x288 with 1 Axes>"
      ]
     },
     "metadata": {
      "needs_background": "light"
     },
     "output_type": "display_data"
    }
   ],
   "source": [
    "df.plot(kind='scatter', x='этаж', y='число_попаданий_после_курсов');"
   ]
  },
  {
   "cell_type": "markdown",
   "id": "57f35123",
   "metadata": {},
   "source": [
    "Можно заметить, что до прохождения курсов существовала сильная зависимость числа попаданий от этажа, с которого совершается плевок. После прохождения курсов разброс сгладился."
   ]
  },
  {
   "cell_type": "code",
   "execution_count": 174,
   "id": "2f30b90d",
   "metadata": {},
   "outputs": [],
   "source": [
    "df['dif'] = df['число_попаданий_после_курсов'] / df['число_попаданий_до_курсов']"
   ]
  },
  {
   "cell_type": "code",
   "execution_count": 212,
   "id": "a8dc35ab",
   "metadata": {},
   "outputs": [
    {
     "data": {
      "image/png": "[encoded data removed]",
      "text/plain": [
       "<Figure size 432x288 with 1 Axes>"
      ]
     },
     "metadata": {
      "needs_background": "light"
     },
     "output_type": "display_data"
    }
   ],
   "source": [
    "df['dif'].plot(kind='hist', bins=np.linspace(0, 10, num=100, endpoint=True), grid=True);"
   ]
  },
  {
   "cell_type": "markdown",
   "id": "0c17d19c",
   "metadata": {},
   "source": [
    "Незначительное число девочек показало понижение показателя точности попадания. Большая часть показала рост показателя точности, в некоторых случаях он был повышен в 10 раз."
   ]
  },
  {
   "cell_type": "code",
   "execution_count": 216,
   "id": "32ac529a",
   "metadata": {},
   "outputs": [
    {
     "data": {
      "text/plain": [
       "0.0    791\n",
       "1.0    151\n",
       "Name: из_Купчино, dtype: int64"
      ]
     },
     "execution_count": 216,
     "metadata": {},
     "output_type": "execute_result"
    }
   ],
   "source": [
    "df['из_Купчино'].value_counts()"
   ]
  },
  {
   "cell_type": "markdown",
   "id": "31a37397",
   "metadata": {},
   "source": [
    "Учитывая, что я не смог найти с чем может быть связана колонка \"из_Купчино\" и учитывая, что большинство девочек не оттуда, мне кажется разумным заполнить пропуски данными, говорящими, что они не из Купчино, т.е. 0."
   ]
  },
  {
   "cell_type": "code",
   "execution_count": 218,
   "id": "d053be5e",
   "metadata": {},
   "outputs": [],
   "source": [
    "df['из_Купчино'].fillna(0, inplace=True)"
   ]
  },
  {
   "cell_type": "code",
   "execution_count": 219,
   "id": "95a33dac",
   "metadata": {},
   "outputs": [
    {
     "data": {
      "text/html": [
       "<div>\n",
       "<style scoped>\n",
       "    .dataframe tbody tr th:only-of-type {\n",
       "        vertical-align: middle;\n",
       "    }\n",
       "\n",
       "    .dataframe tbody tr th {\n",
       "        vertical-align: top;\n",
       "    }\n",
       "\n",
       "    .dataframe thead th {\n",
       "        text-align: right;\n",
       "    }\n",
       "</style>\n",
       "<table border=\"1\" class=\"dataframe\">\n",
       "  <thead>\n",
       "    <tr style=\"text-align: right;\">\n",
       "      <th></th>\n",
       "      <th>число_попаданий_до_курсов</th>\n",
       "      <th>число_попаданий_после_курсов</th>\n",
       "      <th>рост_см</th>\n",
       "      <th>возраст</th>\n",
       "      <th>из_Купчино</th>\n",
       "      <th>пьет_много_воды</th>\n",
       "      <th>этаж</th>\n",
       "      <th>время_работы_минут</th>\n",
       "      <th>dif</th>\n",
       "    </tr>\n",
       "  </thead>\n",
       "  <tbody>\n",
       "    <tr>\n",
       "      <th>count</th>\n",
       "      <td>1000.000000</td>\n",
       "      <td>1000.000000</td>\n",
       "      <td>1000.000000</td>\n",
       "      <td>1000.000000</td>\n",
       "      <td>1000.000000</td>\n",
       "      <td>1000.000000</td>\n",
       "      <td>1000.000000</td>\n",
       "      <td>1000.000000</td>\n",
       "      <td>1000.000000</td>\n",
       "    </tr>\n",
       "    <tr>\n",
       "      <th>mean</th>\n",
       "      <td>13.197000</td>\n",
       "      <td>21.579000</td>\n",
       "      <td>158.094000</td>\n",
       "      <td>10.859000</td>\n",
       "      <td>0.151000</td>\n",
       "      <td>0.539000</td>\n",
       "      <td>3.946000</td>\n",
       "      <td>16.233000</td>\n",
       "      <td>2.053857</td>\n",
       "    </tr>\n",
       "    <tr>\n",
       "      <th>std</th>\n",
       "      <td>5.411051</td>\n",
       "      <td>8.541236</td>\n",
       "      <td>10.100554</td>\n",
       "      <td>5.975519</td>\n",
       "      <td>0.358228</td>\n",
       "      <td>0.498726</td>\n",
       "      <td>2.109392</td>\n",
       "      <td>9.680621</td>\n",
       "      <td>1.518778</td>\n",
       "    </tr>\n",
       "    <tr>\n",
       "      <th>min</th>\n",
       "      <td>4.000000</td>\n",
       "      <td>6.000000</td>\n",
       "      <td>149.000000</td>\n",
       "      <td>7.000000</td>\n",
       "      <td>0.000000</td>\n",
       "      <td>0.000000</td>\n",
       "      <td>1.000000</td>\n",
       "      <td>5.000000</td>\n",
       "      <td>0.272727</td>\n",
       "    </tr>\n",
       "    <tr>\n",
       "      <th>25%</th>\n",
       "      <td>8.000000</td>\n",
       "      <td>15.000000</td>\n",
       "      <td>153.000000</td>\n",
       "      <td>8.000000</td>\n",
       "      <td>0.000000</td>\n",
       "      <td>0.000000</td>\n",
       "      <td>2.000000</td>\n",
       "      <td>7.000000</td>\n",
       "      <td>1.071429</td>\n",
       "    </tr>\n",
       "    <tr>\n",
       "      <th>50%</th>\n",
       "      <td>13.000000</td>\n",
       "      <td>21.000000</td>\n",
       "      <td>158.000000</td>\n",
       "      <td>10.000000</td>\n",
       "      <td>0.000000</td>\n",
       "      <td>1.000000</td>\n",
       "      <td>3.000000</td>\n",
       "      <td>16.000000</td>\n",
       "      <td>1.588235</td>\n",
       "    </tr>\n",
       "    <tr>\n",
       "      <th>75%</th>\n",
       "      <td>18.000000</td>\n",
       "      <td>27.000000</td>\n",
       "      <td>162.000000</td>\n",
       "      <td>13.000000</td>\n",
       "      <td>0.000000</td>\n",
       "      <td>1.000000</td>\n",
       "      <td>5.000000</td>\n",
       "      <td>25.000000</td>\n",
       "      <td>2.500000</td>\n",
       "    </tr>\n",
       "    <tr>\n",
       "      <th>max</th>\n",
       "      <td>22.000000</td>\n",
       "      <td>40.000000</td>\n",
       "      <td>293.000000</td>\n",
       "      <td>98.000000</td>\n",
       "      <td>1.000000</td>\n",
       "      <td>1.000000</td>\n",
       "      <td>8.000000</td>\n",
       "      <td>34.000000</td>\n",
       "      <td>10.000000</td>\n",
       "    </tr>\n",
       "  </tbody>\n",
       "</table>\n",
       "</div>"
      ],
      "text/plain": [
       "       число_попаданий_до_курсов  число_попаданий_после_курсов      рост_см  \\\n",
       "count                1000.000000                   1000.000000  1000.000000   \n",
       "mean                   13.197000                     21.579000   158.094000   \n",
       "std                     5.411051                      8.541236    10.100554   \n",
       "min                     4.000000                      6.000000   149.000000   \n",
       "25%                     8.000000                     15.000000   153.000000   \n",
       "50%                    13.000000                     21.000000   158.000000   \n",
       "75%                    18.000000                     27.000000   162.000000   \n",
       "max                    22.000000                     40.000000   293.000000   \n",
       "\n",
       "           возраст   из_Купчино  пьет_много_воды         этаж  \\\n",
       "count  1000.000000  1000.000000      1000.000000  1000.000000   \n",
       "mean     10.859000     0.151000         0.539000     3.946000   \n",
       "std       5.975519     0.358228         0.498726     2.109392   \n",
       "min       7.000000     0.000000         0.000000     1.000000   \n",
       "25%       8.000000     0.000000         0.000000     2.000000   \n",
       "50%      10.000000     0.000000         1.000000     3.000000   \n",
       "75%      13.000000     0.000000         1.000000     5.000000   \n",
       "max      98.000000     1.000000         1.000000     8.000000   \n",
       "\n",
       "       время_работы_минут          dif  \n",
       "count         1000.000000  1000.000000  \n",
       "mean            16.233000     2.053857  \n",
       "std              9.680621     1.518778  \n",
       "min              5.000000     0.272727  \n",
       "25%              7.000000     1.071429  \n",
       "50%             16.000000     1.588235  \n",
       "75%             25.000000     2.500000  \n",
       "max             34.000000    10.000000  "
      ]
     },
     "execution_count": 219,
     "metadata": {},
     "output_type": "execute_result"
    }
   ],
   "source": [
    "df.describe()"
   ]
  },
  {
   "cell_type": "markdown",
   "id": "41c33ea0",
   "metadata": {},
   "source": [
    "И ответ на вопрос: кто же победит, добро или зло?"
   ]
  },
  {
   "cell_type": "code",
   "execution_count": 217,
   "id": "a4fd8896",
   "metadata": {},
   "outputs": [
    {
     "data": {
      "text/plain": [
       "группа\n",
       "добрые    13143\n",
       "злые       8436\n",
       "Name: число_попаданий_после_курсов, dtype: int64"
      ]
     },
     "execution_count": 217,
     "metadata": {},
     "output_type": "execute_result"
    }
   ],
   "source": [
    "df.groupby('группа').sum()['число_попаданий_после_курсов']"
   ]
  },
  {
   "cell_type": "markdown",
   "id": "3a1d2af9",
   "metadata": {},
   "source": [
    "Таким образом, можно прийти к выводу, что после прохождения курсов точность девочек из группы добрых (13143) стала значительно выше точности девочек из группы злых (8436)."
   ]
  },
  {
   "cell_type": "code",
   "execution_count": null,
   "id": "bad1bffb",
   "metadata": {},
   "outputs": [],
   "source": []
  }
 ],
 "metadata": {
  "kernelspec": {
   "display_name": "Python 3 (ipykernel)",
   "language": "python",
   "name": "python3"
  },
  "language_info": {
   "codemirror_mode": {
    "name": "ipython",
    "version": 3
   },
   "file_extension": ".py",
   "mimetype": "text/x-python",
   "name": "python",
   "nbconvert_exporter": "python",
   "pygments_lexer": "ipython3",
   "version": "3.10.7"
  }
 },
 "nbformat": 4,
 "nbformat_minor": 5
}
